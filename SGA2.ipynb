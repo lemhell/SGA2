{
 "cells": [
  {
   "cell_type": "code",
   "execution_count": 189,
   "metadata": {
    "collapsed": false
   },
   "outputs": [],
   "source": [
    "import numpy as np\n",
    "import matplotlib.pyplot as plt\n",
    "import numexpr as ne\n",
    "from scipy import misc\n",
    "from PIL import Image\n",
    "from itertools import product, chain\n",
    "import networkx as nx\n",
    "import pandas as pd\n",
    "from heapq import heappush, heappop\n",
    "import collections\n",
    "\n",
    "%matplotlib inline"
   ]
  },
  {
   "cell_type": "markdown",
   "metadata": {},
   "source": [
    "The _objective_ is to find a $path$ through a radioactive $\\textbf{wasteland}$."
   ]
  },
  {
   "cell_type": "code",
   "execution_count": 190,
   "metadata": {
    "collapsed": true
   },
   "outputs": [],
   "source": [
    "# The code in this cell was taken from here: https://github.com/DanielStutzbach/heapdict\n",
    "class heapdict(collections.MutableMapping):\n",
    "    __marker = object()\n",
    "\n",
    "    @staticmethod\n",
    "    def _parent(i):\n",
    "        return ((i - 1) >> 1)\n",
    "\n",
    "    @staticmethod\n",
    "    def _left(i):\n",
    "        return ((i << 1) + 1)\n",
    "\n",
    "    @staticmethod\n",
    "    def _right(i):\n",
    "        return ((i+1) << 1)    \n",
    "    \n",
    "    def __init__(self, *args, **kw):\n",
    "        self.heap = []\n",
    "        self.d = {}\n",
    "        self.update(*args, **kw)\n",
    "\n",
    "    def clear(self):\n",
    "        del self.heap[:]\n",
    "        self.d.clear()\n",
    "\n",
    "    def __setitem__(self, key, value):\n",
    "        if key in self.d:\n",
    "            self.pop(key)\n",
    "        wrapper = [value, key, len(self)]\n",
    "        self.d[key] = wrapper\n",
    "        self.heap.append(wrapper)\n",
    "        self._decrease_key(len(self.heap)-1)\n",
    "\n",
    "    def _min_heapify(self, i):\n",
    "        l = self._left(i)\n",
    "        r = self._right(i)\n",
    "        n = len(self.heap)\n",
    "        if l < n and self.heap[l][0] < self.heap[i][0]:\n",
    "            low = l\n",
    "        else:\n",
    "            low = i\n",
    "        if r < n and self.heap[r][0] < self.heap[low][0]:\n",
    "            low = r\n",
    "\n",
    "        if low != i:\n",
    "            self._swap(i, low)\n",
    "            self._min_heapify(low)\n",
    "\n",
    "    def _decrease_key(self, i):\n",
    "        while i:\n",
    "            parent = self._parent(i)\n",
    "            if self.heap[parent][0] < self.heap[i][0]: break\n",
    "            self._swap(i, parent)\n",
    "            i = parent\n",
    "\n",
    "    def _swap(self, i, j):\n",
    "        self.heap[i], self.heap[j] = self.heap[j], self.heap[i]\n",
    "        self.heap[i][2] = i\n",
    "        self.heap[j][2] = j\n",
    "\n",
    "    def __delitem__(self, key):\n",
    "        wrapper = self.d[key]\n",
    "        while wrapper[2]:\n",
    "            parentpos = self._parent(wrapper[2])\n",
    "            parent = self.heap[parentpos]\n",
    "            self._swap(wrapper[2], parent[2])\n",
    "        self.popitem()\n",
    "\n",
    "    def __getitem__(self, key):\n",
    "        return self.d[key][0]\n",
    "\n",
    "    def __iter__(self):\n",
    "        return iter(self.d)\n",
    "\n",
    "    def popitem(self):\n",
    "        \"\"\"D.popitem() -> (k, v), remove and return the (key, value) pair with lowest\\nvalue; but raise KeyError if D is empty.\"\"\"\n",
    "        wrapper = self.heap[0]\n",
    "        if len(self.heap) == 1:\n",
    "            self.heap.pop()\n",
    "        else:\n",
    "            self.heap[0] = self.heap.pop(-1)\n",
    "            self.heap[0][2] = 0\n",
    "            self._min_heapify(0)\n",
    "        del self.d[wrapper[1]]\n",
    "        return wrapper[1], wrapper[0]    \n",
    "\n",
    "    def __len__(self):\n",
    "        return len(self.d)\n",
    "\n",
    "    def peekitem(self):\n",
    "        \"\"\"D.peekitem() -> (k, v), return the (key, value) pair with lowest value;\\n but raise KeyError if D is empty.\"\"\"\n",
    "        return (self.heap[0][1], self.heap[0][0])"
   ]
  },
  {
   "cell_type": "code",
   "execution_count": 191,
   "metadata": {
    "collapsed": false
   },
   "outputs": [
    {
     "data": {
      "text/plain": [
       "'fast'"
      ]
     },
     "execution_count": 191,
     "metadata": {},
     "output_type": "execute_result"
    }
   ],
   "source": [
    "ne.set_num_threads(4)\n",
    "ne.set_vml_num_threads(4)\n",
    "ne.detect_number_of_cores()\n",
    "ne.set_vml_accuracy_mode('fast')"
   ]
  },
  {
   "cell_type": "code",
   "execution_count": 335,
   "metadata": {
    "collapsed": false
   },
   "outputs": [],
   "source": [
    "def read_map(file):\n",
    "    # white — 255; black — 0; red — 91; green — 122; orange — 155\n",
    "    return misc.imread(file, mode='L')\n",
    "\n",
    "def save_radiation(filename, radiation):\n",
    "    np.save(filename, radiation)\n",
    "    \n",
    "def load_radiation(filename):\n",
    "    return np.load(filename)"
   ]
  },
  {
   "cell_type": "code",
   "execution_count": 193,
   "metadata": {
    "collapsed": true
   },
   "outputs": [],
   "source": [
    "def metric(x, y, i, j):\n",
    "    return ne.evaluate(\"sqrt((x - i)**2 + (y - j)**2)\")\n",
    "\n",
    "def radiation(x):\n",
    "    return ne.evaluate(\"10**5 / (x ** 2)\")\n",
    "\n",
    "def dose(x, y):\n",
    "    return lambda i,j: radiation(metric(x, y, i, j))\n",
    "\n",
    "def generate_radiation(x, y, size=700):\n",
    "    return np.fromfunction(dose(x, y), (size, size))"
   ]
  },
  {
   "cell_type": "code",
   "execution_count": 194,
   "metadata": {
    "collapsed": false
   },
   "outputs": [],
   "source": [
    "map = read_map(r'./map.png')\n",
    "radiation_cells = np.array(list(zip(*np.where(map == 155))))\n",
    "obstacle_cells = np.array(list(zip(*np.where(map == 0))))\n",
    "start_cell = np.array(list(zip(*np.where(map == 122))))[0]\n",
    "finish_cell = np.array(list(zip(*np.where(map == 91))))[0]"
   ]
  },
  {
   "cell_type": "code",
   "execution_count": 197,
   "metadata": {
    "collapsed": false
   },
   "outputs": [],
   "source": [
    "# a = np.sum(generate_radiation(i, j) for i, j in radiation_cells)\n",
    "a = load_radiation('radiation.npy')"
   ]
  },
  {
   "cell_type": "code",
   "execution_count": 78,
   "metadata": {
    "collapsed": true
   },
   "outputs": [],
   "source": [
    "obstacle_coords = pd.DataFrame(obstacle_cells).apply(lambda x: str((x[0], x[1])), axis=1).as_matrix()"
   ]
  },
  {
   "cell_type": "code",
   "execution_count": 345,
   "metadata": {
    "collapsed": false
   },
   "outputs": [],
   "source": [
    "dist = np.tile(float('inf'), (700, 700))\n",
    "color = np.zeros((700, 700))\n",
    "prev = np.tile(-1, (700, 700)).astype(str)\n",
    "\n",
    "i,j = start_cell\n",
    "initial_rads = a[i][j]\n",
    "dist[i][j] = 0"
   ]
  },
  {
   "cell_type": "code",
   "execution_count": 333,
   "metadata": {
    "collapsed": false
   },
   "outputs": [],
   "source": [
    "Q_test = heapdict()\n",
    "for i in range(700):\n",
    "    for j in range(700):\n",
    "        if str((i, j)) in obstacle_coords:\n",
    "            continue\n",
    "        if i == start_cell[0] and j == start_cell[1]:\n",
    "            Q_test[(i, j)] = 0\n",
    "        else:\n",
    "            Q_test[(i, j)] = float('inf')    "
   ]
  },
  {
   "cell_type": "code",
   "execution_count": 348,
   "metadata": {
    "collapsed": false
   },
   "outputs": [],
   "source": [
    "def dijk(Q_test, dist, prev):\n",
    "    while len(Q_test) != 0:\n",
    "        (i, j), rad = Q_test.popitem()\n",
    "        for iv, jv in neighbors(i, j):\n",
    "            if str((i, j)) in obstacle_coords:\n",
    "                continue\n",
    "            alt = dist[i, j] + a[iv, jv]\n",
    "            if alt < dist[iv, jv]:\n",
    "                dist[iv, jv] = alt\n",
    "                prev[iv, jv] = str((i, j))\n",
    "                Q_test[(iv, jv)] = alt\n",
    "        \n",
    "        if len(Q_test) % 50000 == 0:\n",
    "            print(len(Q_test))\n",
    "    return dist, prev"
   ]
  },
  {
   "cell_type": "code",
   "execution_count": 343,
   "metadata": {
    "collapsed": false
   },
   "outputs": [],
   "source": [
    "dist_copy = dist.copy()\n",
    "prev_copy = prev.copy()"
   ]
  },
  {
   "cell_type": "code",
   "execution_count": 351,
   "metadata": {
    "collapsed": false
   },
   "outputs": [
    {
     "name": "stdout",
     "output_type": "stream",
     "text": [
      "450000\n",
      "400000\n",
      "350000\n",
      "300000\n",
      "250000\n",
      "200000\n",
      "150000\n",
      "100000\n",
      "50000\n",
      "0\n"
     ]
    }
   ],
   "source": [
    "second_dist, seconds_prev = dijk(Q_test, dist, prev)"
   ]
  },
  {
   "cell_type": "code",
   "execution_count": 305,
   "metadata": {
    "collapsed": true
   },
   "outputs": [],
   "source": [
    "def get_pair(string):\n",
    "    i, j = string.replace(\"(\", \"\").replace(\")\", \"\").replace(\" \", \"\").split(',')\n",
    "    return int(i), int(j)"
   ]
  },
  {
   "cell_type": "code",
   "execution_count": 325,
   "metadata": {
    "collapsed": true
   },
   "outputs": [],
   "source": [
    "def get_path(prevs, start, finish):\n",
    "    path = []\n",
    "    current = finish\n",
    "    while current != start:\n",
    "        path.append(current)\n",
    "        current = prevs[get_pair(current)]\n",
    "    return [eval(_) for _ in list(reversed(path))]"
   ]
  },
  {
   "cell_type": "code",
   "execution_count": 326,
   "metadata": {
    "collapsed": true
   },
   "outputs": [],
   "source": [
    "start_tuple = start_cell[0], start_cell[1]\n",
    "finish_tuple = finish_cell[0], finish_cell[1]"
   ]
  },
  {
   "cell_type": "code",
   "execution_count": 377,
   "metadata": {
    "collapsed": true
   },
   "outputs": [],
   "source": [
    "path = get_path(seconds_prev, str(start_tuple), str(finish_tuple))"
   ]
  },
  {
   "cell_type": "code",
   "execution_count": 439,
   "metadata": {
    "collapsed": false
   },
   "outputs": [],
   "source": [
    "def get_path_length(path):\n",
    "    '''\n",
    "    Count the length of the path, \n",
    "    taking diagonal moves into account.\n",
    "    '''\n",
    "    moves = 0.\n",
    "    path = [np.array(v) for v in path]\n",
    "    for left, right in zip(path, path[1:]):\n",
    "        distance = np.sqrt(np.abs(left - right).sum())\n",
    "        moves = moves + distance\n",
    "    return np.int(np.ceil(moves))"
   ]
  },
  {
   "cell_type": "code",
   "execution_count": 442,
   "metadata": {
    "collapsed": false
   },
   "outputs": [
    {
     "data": {
      "text/plain": [
       "'Length of the path is 1290'"
      ]
     },
     "execution_count": 442,
     "metadata": {},
     "output_type": "execute_result"
    }
   ],
   "source": [
    "\"Length of the path is \" + str(get_path_length(path))"
   ]
  },
  {
   "cell_type": "markdown",
   "metadata": {},
   "source": [
    "$Length$ is $1290$ which is less than $1300$. It was required to get the path with $length$ less than $1300$."
   ]
  },
  {
   "cell_type": "code",
   "execution_count": 373,
   "metadata": {
    "collapsed": true
   },
   "outputs": [],
   "source": [
    "np.save(\"prev_results\", seconds_prev)"
   ]
  },
  {
   "cell_type": "code",
   "execution_count": 372,
   "metadata": {
    "collapsed": false
   },
   "outputs": [
    {
     "data": {
      "image/png": "[encoded data removed]",
      "text/plain": [
       "<matplotlib.figure.Figure at 0x137788a90>"
      ]
     },
     "metadata": {},
     "output_type": "display_data"
    }
   ],
   "source": [
    "picture = a.copy()\n",
    "# for i, j in get_path(new_prev, str(start_tuple), str(finish_tuple)):\n",
    "for i, j in get_path(seconds_prev, str(start_tuple), str(finish_tuple)):\n",
    "    picture[i][j] = float('inf')\n",
    "    for x, y in neighbors(i, j):\n",
    "        picture[x][y] = float('1000000')\n",
    "        \n",
    "for i, j in obstacle_cells:\n",
    "    picture[i][j] = float('-inf')\n",
    "        \n",
    "plt.figure(figsize=(11, 8))\n",
    "im = plt.contourf(picture)\n",
    "plt.colorbar(im, orientation='vertical')\n",
    "plt.show()"
   ]
  },
  {
   "cell_type": "code",
   "execution_count": 8,
   "metadata": {
    "collapsed": true
   },
   "outputs": [],
   "source": [
    "save_radiation('radiation', a)"
   ]
  },
  {
   "cell_type": "code",
   "execution_count": 130,
   "metadata": {
    "collapsed": true
   },
   "outputs": [],
   "source": [
    "# Graph generation routines\n",
    "def neighbors(i, j, width=700, height=700):\n",
    "    neighbors_i = [i - 1, i, i + 1]\n",
    "    neighbors_j = [j - 1, j, j + 1]\n",
    "    neighbors = []\n",
    "    for i, j in product(neighbors_i, neighbors_j):\n",
    "        if 0 <= i < width and 0 <= j < height:\n",
    "            yield (i, j)\n",
    "    \n",
    "\n",
    "def get_edges_from(map, i, j):\n",
    "    return [(x, y, map[x][y]) for x, y in neighbors(i, j, map.shape[0], map.shape[1])]"
   ]
  }
 ],
 "metadata": {
  "kernelspec": {
   "display_name": "Python 3",
   "language": "python",
   "name": "python3"
  },
  "language_info": {
   "codemirror_mode": {
    "name": "ipython",
    "version": 3
   },
   "file_extension": ".py",
   "mimetype": "text/x-python",
   "name": "python",
   "nbconvert_exporter": "python",
   "pygments_lexer": "ipython3",
   "version": "3.5.1"
  }
 },
 "nbformat": 4,
 "nbformat_minor": 0
}
